{
 "cells": [
  {
   "cell_type": "markdown",
   "metadata": {
    "id": "vC84e9kzyxPy"
   },
   "source": [
    "<h1>Импорт библиотек"
   ]
  },
  {
   "cell_type": "code",
   "execution_count": 3,
   "metadata": {
    "id": "cgKeNegmQG5S"
   },
   "outputs": [],
   "source": [
    "import numpy as np\n",
    "import matplotlib.pyplot as plt"
   ]
  },
  {
   "cell_type": "markdown",
   "metadata": {
    "id": "qFM9uVU2x4Ls"
   },
   "source": [
    "<h1>Задача 1. Дан набор из $p$ матриц размерностью $(n, n)$ и $p$ векторов размерностью $(n, 1)$, найти сумму произведений матриц на векторы. Написать тесты для кода"
   ]
  },
  {
   "cell_type": "code",
   "execution_count": 1,
   "metadata": {
    "id": "IAbUvEiYyWFF"
   },
   "outputs": [
    {
     "ename": "TypeError",
     "evalue": "'int' object is not subscriptable",
     "output_type": "error",
     "traceback": [
      "\u001b[1;31m---------------------------------------------------------------------------\u001b[0m",
      "\u001b[1;31mTypeError\u001b[0m                                 Traceback (most recent call last)",
      "Cell \u001b[1;32mIn[1], line 30\u001b[0m\n\u001b[0;32m     28\u001b[0m X \u001b[38;5;241m=\u001b[39m [[\u001b[38;5;241m1\u001b[39m,\u001b[38;5;241m2\u001b[39m,\u001b[38;5;241m3\u001b[39m],[\u001b[38;5;241m4\u001b[39m,\u001b[38;5;241m5\u001b[39m,\u001b[38;5;241m6\u001b[39m],[\u001b[38;5;241m7\u001b[39m,\u001b[38;5;241m8\u001b[39m,\u001b[38;5;241m9\u001b[39m]]\n\u001b[0;32m     29\u001b[0m V \u001b[38;5;241m=\u001b[39m [\u001b[38;5;241m1\u001b[39m,\u001b[38;5;241m2\u001b[39m,\u001b[38;5;241m3\u001b[39m]\n\u001b[1;32m---> 30\u001b[0m \u001b[38;5;28mprint\u001b[39m(\u001b[43msum_prod\u001b[49m\u001b[43m(\u001b[49m\u001b[43mX\u001b[49m\u001b[43m,\u001b[49m\u001b[43mV\u001b[49m\u001b[43m)\u001b[49m)\n\u001b[0;32m     31\u001b[0m X \u001b[38;5;241m=\u001b[39m [[\u001b[38;5;241m1\u001b[39m,\u001b[38;5;241m2\u001b[39m,\u001b[38;5;241m3\u001b[39m,\u001b[38;5;241m5\u001b[39m],[\u001b[38;5;241m4\u001b[39m,\u001b[38;5;241m5\u001b[39m,\u001b[38;5;241m6\u001b[39m,\u001b[38;5;241m6\u001b[39m],[\u001b[38;5;241m7\u001b[39m,\u001b[38;5;241m8\u001b[39m,\u001b[38;5;241m9\u001b[39m,\u001b[38;5;241m2\u001b[39m]]\n\u001b[0;32m     32\u001b[0m V \u001b[38;5;241m=\u001b[39m [\u001b[38;5;241m1\u001b[39m,\u001b[38;5;241m2\u001b[39m,\u001b[38;5;241m3\u001b[39m]\n",
      "Cell \u001b[1;32mIn[1], line 25\u001b[0m, in \u001b[0;36msum_prod\u001b[1;34m(X, V)\u001b[0m\n\u001b[0;32m     23\u001b[0m temp \u001b[38;5;241m=\u001b[39m multipliс(X, V, n)\n\u001b[0;32m     24\u001b[0m \u001b[38;5;28;01mfor\u001b[39;00m i \u001b[38;5;129;01min\u001b[39;00m \u001b[38;5;28mrange\u001b[39m(\u001b[38;5;241m0\u001b[39m,n):\n\u001b[1;32m---> 25\u001b[0m     result[i]\u001b[38;5;241m+\u001b[39m\u001b[38;5;241m=\u001b[39mtemp[i]\n\u001b[0;32m     26\u001b[0m \u001b[38;5;28;01mreturn\u001b[39;00m(result)\n\u001b[0;32m     27\u001b[0m \u001b[38;5;28;01mpass\u001b[39;00m\n",
      "\u001b[1;31mTypeError\u001b[0m: 'int' object is not subscriptable"
     ]
    }
   ],
   "source": [
    "def multipliс(X, V, n):\n",
    "    result = []\n",
    "    for i in range(0,n):\n",
    "        sum_result = 0\n",
    "        for j in range(0,n): \n",
    "            sum_result = X[i][j]*V[j]\n",
    "        \n",
    "        result.append(sum_result)\n",
    "    return(result)\n",
    "def sum_prod(X, V):\n",
    "    #'''\n",
    "    #X - матрицы (n, n)\n",
    "    #V - векторы (n, 1)\n",
    "    #Гарантируется, что len(X) == len(V)\n",
    "    #'''\n",
    "    result = 0 \n",
    "    column_len = len(X)\n",
    "    line_len = len(X[0])\n",
    "    if column_len == line_len:\n",
    "        n = line_len\n",
    "    else:\n",
    "        return('Ошибка! Матрица должна быть квадратной, т.е. быть размерами n на n.')\n",
    "    temp = multipliс(X, V, n)\n",
    "    for i in range(0,n):\n",
    "        result[i]+=temp[i]\n",
    "    return(result)\n",
    "    pass\n",
    "X = [[1,2,3],[4,5,6],[7,8,9]]\n",
    "V = [1,2,3]\n",
    "print(sum_prod(X,V))\n",
    "X = [[1,2,3,5],[4,5,6,6],[7,8,9,2]]\n",
    "V = [1,2,3]\n",
    "print(sum_prod(X,V))"
   ]
  },
  {
   "cell_type": "markdown",
   "metadata": {
    "id": "TKwPG4fIy2w4"
   },
   "source": [
    "<h1>Задача 2. Дана матрица M, напишите функцию, которая бинаризует матрицу по некоторому threshold (то есть, все значения большие threshold становятся равными 1, иначе 0). Напишите тесты для кода"
   ]
  },
  {
   "cell_type": "code",
   "execution_count": 12,
   "metadata": {
    "id": "KQDNMgsjRNH7"
   },
   "outputs": [
    {
     "name": "stdout",
     "output_type": "stream",
     "text": [
      "[[0, 1, 1], [1, 0, 1], [1, 1, 0]]\n",
      "[[0, 1, 1], [0, 0, 1], [0, 0, 0]]\n"
     ]
    }
   ],
   "source": [
    "def binarize(M, threshold=0.5):\n",
    "    result = []\n",
    "    len_colums = len(M)\n",
    "    len_rows = len(M[0])\n",
    "    for i in range(0,len_colums):\n",
    "        result.append(M[i])\n",
    "    for i in range(0,len_colums):\n",
    "        for j in range(0,len_rows):\n",
    "            if M[i][j] > threshold:\n",
    "                result[i][j] = 1\n",
    "            else:\n",
    "                result[i][j] = 0\n",
    "    return(result)\n",
    "    pass\n",
    "M = [[0.1,3,3],[2,0.2,3],[2,1.25,0.5]]\n",
    "print(binarize(M))\n",
    "M = [[0.1,3,3],[2,0.2,3],[2,1.25,0.5]]\n",
    "print(binarize(M,2))"
   ]
  },
  {
   "cell_type": "markdown",
   "metadata": {
    "id": "IY5L-h-7zWhN"
   },
   "source": [
    "<h1>Задача 3. Напишите функцию, которая возвращает уникальные элементы из каждой строки матрицы. Напишите такую же функцию, но для столбцов. Напишите тесты для кода"
   ]
  },
  {
   "cell_type": "code",
   "execution_count": 30,
   "metadata": {
    "id": "-8dEZhR0SBC-"
   },
   "outputs": [
    {
     "name": "stdout",
     "output_type": "stream",
     "text": [
      "['0я:', 1, 2, 3, '1я:', 4, 5, 6, '2я:', 7, 8, 9]\n",
      "['0я:', 1, 4, 7, '1я:', 2, 5, 8, '2я:', 3, 6, 9]\n",
      "['0я:', 1, '1я:', 2, '2я:', 8]\n",
      "['0я:', 1, 4, 7, '1я:', 2, 4, 8, '2я:', 7]\n",
      "['0я:', '1я:', '2я:']\n",
      "['0я:', '1я:', '2я:', '3я:']\n"
     ]
    }
   ],
   "source": [
    "#под \"уникальными\" эл-тами буду принимать те объекты, которые встречаются лишь 1 раз\n",
    "def unique_rows(mat):\n",
    "    # Your code goes here\n",
    "    #гарантируется, что длина строки 1 равна длине строки 2\n",
    "    result = []\n",
    "    len_rows = len(mat)\n",
    "    len_colums = len(mat[0])\n",
    "    for i in range(0, len_rows):\n",
    "        set_of_str = set(mat[i])#создаю сет, где нет повторок\n",
    "        set_of_str = sorted(list(set_of_str))#перервод обратно в тип лист, чтобы сравнивать\n",
    "        len_of_set = len(set_of_str)\n",
    "        result.append(f\"{i}я:\")\n",
    "        for j in range(0,len_of_set):\n",
    "            n = 0 #счётчик повторов\n",
    "            for g in range(0, len_rows):\n",
    "                if set_of_str[j] == mat[i][g]:#начинаю сравнивать все эл-ты сета со списком\n",
    "                    n+=1\n",
    "                if n > 1:\n",
    "                    continue#если X эл-нт из сета встречается больше раза = скипскипскип\n",
    "            if n == 1:\n",
    "                result.append(set_of_str[j])\n",
    "    return(result)\n",
    "    pass\n",
    "\n",
    "def unique_columns(mat):\n",
    "    # Your code goes here\n",
    "    result = []\n",
    "    len_rows = len(mat)\n",
    "    len_colums = len(mat[0])\n",
    "    for i in range(0, len_colums):\n",
    "        set_of_str = []\n",
    "        for aui in range(0,len_rows):\n",
    "            set_of_str.append(mat[aui][i])\n",
    "        set_of_str = set(set_of_str)\n",
    "        set_of_str = sorted(list(set_of_str))\n",
    "        len_of_set = len(set_of_str)\n",
    "        result.append(f\"{i}я:\")\n",
    "        for j in range(0,len_of_set):\n",
    "            n = 0 #счётчик повторов\n",
    "            for g in range(0, len_rows):\n",
    "                if set_of_str[j] == mat[g][i]:\n",
    "                    n+=1\n",
    "                if n > 1:\n",
    "                    continue\n",
    "            if n == 1:\n",
    "                result.append(set_of_str[j])\n",
    "    return(result)\n",
    "    pass\n",
    "X = [[1,2,3],[4,5,6],[7,8,9]]\n",
    "print(unique_rows(X))\n",
    "print(unique_columns(X))\n",
    "X = [[1,2,2],[4,4,2],[7,8,7]]\n",
    "print(unique_rows(X))\n",
    "print(unique_columns(X))\n",
    "X = [[1,1,1,1],[1,1,1,1],[1,1,1,1]]\n",
    "print(unique_rows(X))\n",
    "print(unique_columns(X))\n",
    "#замечание! я обозначил за переменные len_rows и len_colums не длины, а ,грубо говоря, кол-во строк и кол-во колон, но исправлять мне лень"
   ]
  },
  {
   "cell_type": "markdown",
   "metadata": {
    "id": "roYAlo4Jz-lH"
   },
   "source": [
    "<h1>Задача 4. Напишите функцию, которая заполняет матрицу с размерами $(m, n)$ случайными числами, распределенными по нормальному закону. Затем считает мат. ожидание и дисперсию для каждого из столбцов и строк, а также строит для каждой строки и столбца гистограмму значений (использовать функцию hist из модуля matplotlib.plot)"
   ]
  },
  {
   "cell_type": "code",
   "execution_count": null,
   "metadata": {
    "id": "nZK_71hMSQzv"
   },
   "outputs": [],
   "source": [
    "# Your code goes here"
   ]
  },
  {
   "cell_type": "markdown",
   "metadata": {
    "id": "BDyATNdM0dJ2"
   },
   "source": [
    "<h1>Задача 5. Напишите функцию, которая заполняет матрицу $(m, n)$ в шахматном порядке заданными числами $a$ и $b$. Напишите тесты для кода"
   ]
  },
  {
   "cell_type": "code",
   "execution_count": 18,
   "metadata": {
    "id": "RWNJYWQGecS6"
   },
   "outputs": [
    {
     "name": "stdout",
     "output_type": "stream",
     "text": [
      "[[1, 0, 1], [0, 1, 0], [1, 0, 1]]\n",
      "[[1, 0, 1, 0], [0, 1, 0, 1], [1, 0, 1, 0], [0, 1, 0, 1], [1, 0, 1, 0]]\n",
      "[[1], [0]]\n"
     ]
    }
   ],
   "source": [
    "def chess(m, n, a, b):\n",
    "    # Your code goes here\n",
    "    result = []\n",
    "    for i in range(0,n):\n",
    "        result.append([])\n",
    "        for j in range(0,m):\n",
    "            if (i+j)%2 == 0:\n",
    "                result[i].append(a)\n",
    "            else:\n",
    "                result[i].append(b)\n",
    "    return(result)\n",
    "    pass\n",
    "print(chess(3,3,1,0))\n",
    "print(chess(4,5,1,0))\n",
    "print(chess(1,2,1,0))"
   ]
  },
  {
   "cell_type": "markdown",
   "metadata": {
    "id": "-ymXLtTN0vB6"
   },
   "source": [
    "<h1>Задача 6. Напишите функцию, которая отрисовывает прямоугольник с заданными размерами (a, b) на изображении размера (m, n), цвет фона задайте в схеме RGB, как и цвет прямоугольника. Цвета также должны быть параметрами функции. Напишите аналогичную функцию но для овала с полуосями a и b. Напишите тесты для кода.\n",
    "Примечание: уравнение эллипса (границы овала) можно записать как:\n",
    "<h1>$\\frac{(x-x_0)^2}{a^2}+\\frac{(y-y_0)^2}{b^2}=1$"
   ]
  },
  {
   "cell_type": "code",
   "execution_count": 1,
   "metadata": {
    "id": "sNfl1t_kfOF4"
   },
   "outputs": [],
   "source": [
    "def draw_rectangle(a, b, m, n, rectangle_color, background_color):\n",
    "    # Your code goes here\n",
    "    pass\n",
    "\n",
    "def draw_ellipse(a, b, m, n, ellipse_color, background_color):\n",
    "    # Your code goes here\n",
    "    pass\n",
    "#соаздать ошибку, которая говорит о несовместимости размеров холства и фигуры"
   ]
  },
  {
   "cell_type": "markdown",
   "metadata": {
    "id": "S82c38oz244H"
   },
   "source": [
    "<h1>Задача 7. Дан некий временной ряд. Для данного ряда нужно найти его: математическое ожидание, дисперсию, СКО, найти все локальные максимумы и минимумы (локальный максимум - это точка, которая больше своих соседних точек, а локальный минимум - это точка, которая меньше своих соседей), а также вычислить для данного ряда другой ряд, получаемый методом скользящего среднего с размером окна $p$.\n",
    "<h1>Примечание: метод скользящего среднего подразумевает нахождение среднего из подмножетсва ряда размером $p$"
   ]
  },
  {
   "cell_type": "code",
   "execution_count": 2,
   "metadata": {
    "id": "Zb9mIVge5MMt"
   },
   "outputs": [],
   "source": [
    "# Your code goes here\n",
    "#я сетрифицированный программист! штоблть?"
   ]
  },
  {
   "cell_type": "markdown",
   "metadata": {
    "id": "jPkylmOX5O9n"
   },
   "source": [
    "<h1> Задача 8. Дан некоторый вектор с целочисленными метками классов, напишите функцию, которая выполняет one-hot-encoding для данного вектора\n",
    "<h1> One-hot-encoding - представление, в котором на месте метки некоторого класса стоит 1, в остальных позициях стоит 0. Например для вектора [0, 2, 3, 0] one-hot-encoding выглядит как: [[1, 0, 0, 0], [0, 0, 1, 0], [0, 0, 0, 1], [1, 0, 0, 0]]"
   ]
  },
  {
   "cell_type": "code",
   "execution_count": null,
   "metadata": {
    "id": "Y-jlnZvw56lD"
   },
   "outputs": [],
   "source": [
    "# Your code goes here\n",
    "#1000 0 нулеков\n",
    "#0010 2 нулеков\n",
    "#0001 3 нулеков\n",
    "#1000 0 нулеков"
   ]
  }
 ],
 "metadata": {
  "colab": {
   "provenance": []
  },
  "kernelspec": {
   "display_name": "Python 3 (ipykernel)",
   "language": "python",
   "name": "python3"
  },
  "language_info": {
   "codemirror_mode": {
    "name": "ipython",
    "version": 3
   },
   "file_extension": ".py",
   "mimetype": "text/x-python",
   "name": "python",
   "nbconvert_exporter": "python",
   "pygments_lexer": "ipython3",
   "version": "3.10.1"
  }
 },
 "nbformat": 4,
 "nbformat_minor": 4
}
